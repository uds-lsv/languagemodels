{
 "cells": [
  {
   "cell_type": "code",
   "execution_count": 15,
   "metadata": {},
   "outputs": [],
   "source": [
    "import sys\n",
    "sys.path.append(\"/home/marius/lsv/languagemodels\")"
   ]
  },
  {
   "cell_type": "code",
   "execution_count": 16,
   "metadata": {},
   "outputs": [],
   "source": [
    "import torch \n",
    "import numpy as np\n",
    "\n",
    "from languagemodels import LMFactory"
   ]
  },
  {
   "cell_type": "code",
   "execution_count": 17,
   "metadata": {},
   "outputs": [],
   "source": [
    "# create a language model\n",
    "lm = LMFactory.get_lm(name_or_path=\"dummy-lm\", config={}, pre_trained=False)"
   ]
  },
  {
   "cell_type": "code",
   "execution_count": 18,
   "metadata": {},
   "outputs": [
    {
     "name": "stdout",
     "output_type": "stream",
     "text": [
      "['This is the first example sentence .', 'Another one, but shorter .']\n"
     ]
    }
   ],
   "source": [
    "# let's create some toy data\n",
    "data = [\n",
    "    \"This is the first example sentence .\",\n",
    "    \"Another one, but shorter .\"\n",
    "]\n",
    "print(data)"
   ]
  },
  {
   "cell_type": "code",
   "execution_count": 19,
   "metadata": {},
   "outputs": [
    {
     "name": "stdout",
     "output_type": "stream",
     "text": [
      "[['<s>', 'This', 'is', 'the', 'first', 'example', 'sentence', '.', '</s>', '<pad>', '<pad>', '<pad>', '<pad>', '<pad>', '<pad>', '<pad>', '<pad>', '<pad>', '<pad>', '<pad>'], ['<s>', 'Another', 'one,', 'but', 'shorter', '.', '</s>', '<pad>', '<pad>', '<pad>', '<pad>', '<pad>', '<pad>', '<pad>', '<pad>', '<pad>', '<pad>', '<pad>', '<pad>', '<pad>']]\n",
      "tensor([[51, 60, 28,  7, 17, 96, 33,  0, 85, 78, 39, 55, 71, 80, 99,  6, 14, 18,\n",
      "         55, 78],\n",
      "        [99, 34, 52, 88, 71, 52, 15, 11,  8, 63, 54, 94, 66, 74, 29, 82, 83, 26,\n",
      "         11, 27]])\n"
     ]
    }
   ],
   "source": [
    "# let's encode the data\n",
    "tokenized_data = []\n",
    "\n",
    "## tokenize input sequences\n",
    "max_seq_len = np.max([len(s.split(\" \")) for s in data]) # let's use the length of the longest input sequence as the max_seq_len\n",
    "max_seq_len = 20 # alternatively, we could also use a constant\n",
    "\n",
    "for s in data:\n",
    "    words = s.split(\" \") # word-level tokenization\n",
    "    words = [\"<s>\"] + words + [\"</s>\"] # add special tokens to mark beginning and end of a sequence\n",
    "\n",
    "    # make sure all sequences have the same length\n",
    "    if len(words) < max_seq_len:\n",
    "        words = words + [\"<pad>\" for _ in range(max_seq_len - len(words))]\n",
    "    tokenized_data.append(words)\n",
    "\n",
    "print(tokenized_data)\n",
    "\n",
    "## encode tokenized sequences\n",
    "encoded_data = []\n",
    "for s in tokenized_data:\n",
    "    encoded_data.append(list(np.random.randint(0, 100, size=len(s)))) # for now we just replace each token with a random integer\n",
    "\n",
    "## convert to tensors\n",
    "encoded_data = torch.tensor(encoded_data)\n",
    "print(encoded_data)\n"
   ]
  },
  {
   "cell_type": "code",
   "execution_count": 27,
   "metadata": {},
   "outputs": [],
   "source": [
    "# forward the encoded data to the model and compute surprisal for each word in the sequence\n",
    "surprisal = lm.compute_surprisal(encoded_data)"
   ]
  },
  {
   "cell_type": "code",
   "execution_count": 28,
   "metadata": {},
   "outputs": [
    {
     "data": {
      "text/plain": [
       "tensor([[0.0221, 1.0767, 0.5677, 2.6798, 0.8209, 2.1161, 4.7400, 0.0816, 0.3390,\n",
       "         1.1069, 0.1376, 1.9939, 3.2189, 1.3529, 1.2732, 5.0946, 0.2827, 0.4708,\n",
       "         1.9352, 0.0753],\n",
       "        [2.7609, 0.8220, 0.2466, 0.3541, 1.9608, 1.2629, 0.1956, 2.2882, 1.6082,\n",
       "         5.4726, 2.8841, 0.3558, 1.1199, 0.1254, 2.4413, 0.2506, 2.8125, 0.3025,\n",
       "         0.0356, 0.7196]])"
      ]
     },
     "execution_count": 28,
     "metadata": {},
     "output_type": "execute_result"
    }
   ],
   "source": [
    "surprisal"
   ]
  },
  {
   "cell_type": "code",
   "execution_count": null,
   "metadata": {},
   "outputs": [],
   "source": []
  }
 ],
 "metadata": {
  "kernelspec": {
   "display_name": "Python 3.10.4 ('languagemodels')",
   "language": "python",
   "name": "python3"
  },
  "language_info": {
   "codemirror_mode": {
    "name": "ipython",
    "version": 3
   },
   "file_extension": ".py",
   "mimetype": "text/x-python",
   "name": "python",
   "nbconvert_exporter": "python",
   "pygments_lexer": "ipython3",
   "version": "3.10.4"
  },
  "orig_nbformat": 4,
  "vscode": {
   "interpreter": {
    "hash": "15e2c4756fe52ab8e5657e2a48703a5b9238c29bbb5dbd4d686bcf616a8763af"
   }
  }
 },
 "nbformat": 4,
 "nbformat_minor": 2
}
